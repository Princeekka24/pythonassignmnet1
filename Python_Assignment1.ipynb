{
 "cells": [
  {
   "cell_type": "markdown",
   "id": "bd6aa8ad-8a51-4ebf-813b-7b2ed3fc1636",
   "metadata": {},
   "source": [
    "# 1) Key feautres of pyton that makes it populer"
   ]
  },
  {
   "cell_type": "markdown",
   "id": "b0e3a8d0-889a-444a-ab97-edb4c9cb92f3",
   "metadata": {},
   "source": [
    "Easy to read and write: Pythons is a simple clean syntax makes it esy to learn and use.\n",
    "Cross-Platform: Python runs on different platorms like windows, linux, macOS.\n",
    "Interpreted Language: Python doesn't need to be complied, making it fast to test and run.\n",
    "Extensive Libraries: Pythaon has a vast collection of libraries eg  NumPy, Pandas for various fields like data science, machine learning, and web development.\n",
    "Object-Oriented: Python supports object-oriented programming (OOP), allowing modular code and reusable classes.\n",
    "Dynamic Typing: Variables in Python do not need explicit declaration of types; the interpreter assigns data types dynamically.\n",
    "Active Community: Python has an enormous community providing support, tutorials, and third-party packages.\n"
   ]
  },
  {
   "cell_type": "markdown",
   "id": "973da808-0a0f-4d48-af5d-1549b11c63ff",
   "metadata": {},
   "source": [
    "# 2) Role of Predefined Keywords in Python.\n",
    "In Python, reserved terms have a certain meaning. They cannot be used for variable names and instead define the logic and structure of programs.\n",
    "An illustration of a keyword:\n",
    "If is a keyword for conditional expressions.\n",
    "else: To deal with different circumstances.\n",
    "for: To iterate over things that are iterable.\n",
    "def: A notation for functions.\n"
   ]
  },
  {
   "cell_type": "code",
   "execution_count": 2,
   "id": "e1205308-e48d-4177-bb7b-ba183a91455f",
   "metadata": {},
   "outputs": [
    {
     "name": "stdout",
     "output_type": "stream",
     "text": [
      "My name is Prince Ekka\n"
     ]
    }
   ],
   "source": [
    "if True:\n",
    "    print(\"My name is Prince Ekka\")\n",
    "else:\n",
    "    print(\"My Name is Prince Ekka\")\n"
   ]
  },
  {
   "cell_type": "markdown",
   "id": "2a0cb7d2-bb20-43d3-a16c-d4d5cf53e416",
   "metadata": {},
   "source": [
    "# 3) Compare and Contrast Mutable and Immutable Objects in Python \n",
    "\n",
    "Mutable Objects: Can be changed after creation.\n",
    "Example: Lists and dictionaries."
   ]
  },
  {
   "cell_type": "code",
   "execution_count": 3,
   "id": "e035b7dc-23e4-47bb-89df-3e697f36f18b",
   "metadata": {},
   "outputs": [
    {
     "name": "stdout",
     "output_type": "stream",
     "text": [
      "[10, 2, 3]\n"
     ]
    }
   ],
   "source": [
    "my_list = [1, 2, 3]\n",
    "my_list[0] = 10\n",
    "print(my_list)  "
   ]
  },
  {
   "cell_type": "markdown",
   "id": "666a03fd-80da-4efa-905e-d2985decf7bd",
   "metadata": {},
   "source": [
    "Immutable Objects: Cannot be modified once created.\n",
    "Example: Strings and tuples."
   ]
  },
  {
   "cell_type": "code",
   "execution_count": 4,
   "id": "3c7fdcbc-99de-4f76-9e7d-6f91a19f8cf7",
   "metadata": {},
   "outputs": [
    {
     "name": "stdout",
     "output_type": "stream",
     "text": [
      "(1, 2, 3)\n"
     ]
    }
   ],
   "source": [
    "my_tuple = (1, 2, 3)\n",
    "print(my_tuple)  \n"
   ]
  },
  {
   "cell_type": "markdown",
   "id": "0c644c7b-11ce-4fec-938f-27ab9d424b3f",
   "metadata": {
    "tags": []
   },
   "source": [
    "# 4) Different Types of Operators in Python \n",
    "\n",
    "Arithmetic Operators: Used for mathematical operations.\n",
    "Example: +, -, *, /"
   ]
  },
  {
   "cell_type": "code",
   "execution_count": 5,
   "id": "32959afe-002c-4cf4-81ee-ee517ca827bd",
   "metadata": {},
   "outputs": [
    {
     "name": "stdout",
     "output_type": "stream",
     "text": [
      "15\n",
      "5\n"
     ]
    }
   ],
   "source": [
    "a = 10\n",
    "b = 5\n",
    "print(a + b)  \n",
    "print(a - b)  "
   ]
  },
  {
   "cell_type": "markdown",
   "id": "c60ae5d3-1fb1-430e-b3b2-ec5ede61b419",
   "metadata": {},
   "source": [
    "### Comparison Operators: Used to compare values.\n",
    "Example: ==, !=, <, >"
   ]
  },
  {
   "cell_type": "code",
   "execution_count": 6,
   "id": "a3f10287-fab9-4615-b2f4-ef87b8326327",
   "metadata": {},
   "outputs": [
    {
     "name": "stdout",
     "output_type": "stream",
     "text": [
      "True\n",
      "True\n"
     ]
    }
   ],
   "source": [
    "print(10 == 10)  \n",
    "print(10 > 5)  "
   ]
  },
  {
   "cell_type": "markdown",
   "id": "d0a6a7d0-d377-4357-b6ad-852d01f9db54",
   "metadata": {},
   "source": [
    "### Logical Operators: Used to combine conditional statements.\n",
    "Example: and, or, not"
   ]
  },
  {
   "cell_type": "code",
   "execution_count": 7,
   "id": "9894eecb-f152-4eb1-a9a5-554f96904835",
   "metadata": {},
   "outputs": [
    {
     "name": "stdout",
     "output_type": "stream",
     "text": [
      "False\n",
      "False\n"
     ]
    }
   ],
   "source": [
    "print(True and False)  \n",
    "print(not True)  "
   ]
  },
  {
   "cell_type": "markdown",
   "id": "4c19fa0f-cf06-4223-8b00-92d05a1897f3",
   "metadata": {},
   "source": [
    "Assignment Operators: Used to assign values to variables.\n",
    "Example: =, +=, -="
   ]
  },
  {
   "cell_type": "code",
   "execution_count": 8,
   "id": "4e213281-b369-460b-a17a-03be281455f5",
   "metadata": {},
   "outputs": [
    {
     "name": "stdout",
     "output_type": "stream",
     "text": [
      "15\n"
     ]
    }
   ],
   "source": [
    "x = 10\n",
    "x += 5  \n",
    "print(x)  \n"
   ]
  },
  {
   "cell_type": "markdown",
   "id": "d97f6259-68fd-4a29-bb19-9de4d7e32152",
   "metadata": {},
   "source": [
    "# 5) Type Casting in Python\n",
    "Type casting refers to converting one data type into another. Python provides built-in functions for this.\n",
    "Converting string to integer using int()."
   ]
  },
  {
   "cell_type": "code",
   "execution_count": 9,
   "id": "d64faa6f-d6b3-4ffc-a571-2a6dddff5e5d",
   "metadata": {},
   "outputs": [
    {
     "name": "stdout",
     "output_type": "stream",
     "text": [
      "100 is a number\n"
     ]
    }
   ],
   "source": [
    "num = 100\n",
    "num_str = str(num)\n",
    "print(num_str + \" is a number\")  "
   ]
  },
  {
   "cell_type": "markdown",
   "id": "6a0fbecd-e258-453a-ad70-50d23e4e444c",
   "metadata": {},
   "source": [
    "Converting integer to string using str()."
   ]
  },
  {
   "cell_type": "code",
   "execution_count": 11,
   "id": "d3594946-4ae1-4d60-8982-5223921094ab",
   "metadata": {},
   "outputs": [
    {
     "name": "stdout",
     "output_type": "stream",
     "text": [
      "100 is a number\n"
     ]
    }
   ],
   "source": [
    "num = 100\n",
    "num_str = str(num)\n",
    "print(num_str + \" is a number\") "
   ]
  },
  {
   "cell_type": "markdown",
   "id": "448b5de9-d330-4b35-8279-5ddf5f1f7e48",
   "metadata": {},
   "source": [
    "# 6) Conditional Statements in Python\n",
    "### Conditionals allow execution of code based on conditions.\n",
    "Basic Structure:"
   ]
  },
  {
   "cell_type": "markdown",
   "id": "b286e2e7-8ac3-4eaf-8b1b-b0c72e30fef7",
   "metadata": {},
   "source": [
    "if condition:\n",
    "    # code to execute if condition is True\n",
    "elif another_condition:\n",
    "    # code to execute if another_condition is True\n",
    "else:\n",
    "    # code to execute if all conditions are False\n"
   ]
  },
  {
   "cell_type": "code",
   "execution_count": 14,
   "id": "3723e1b0-f945-4194-a000-7f7f4413ee34",
   "metadata": {},
   "outputs": [
    {
     "name": "stdout",
     "output_type": "stream",
     "text": [
      "Positive number\n"
     ]
    }
   ],
   "source": [
    "num = 10\n",
    "if num > 0:\n",
    "    print(\"Positive number\")\n",
    "elif num == 0:\n",
    "    print(\"Zero\")\n",
    "else:\n",
    "    print(\"Negative number\")\n"
   ]
  },
  {
   "cell_type": "markdown",
   "id": "2e0e2a6b-79d5-4f65-b834-2d0ee96b70ca",
   "metadata": {},
   "source": [
    "# 7) Types of Loops in Python \n",
    "For Loop: Iterates over a sequence (list, tuple, string).\n",
    "\n",
    "Use Case: When you need to iterate over a known number of items."
   ]
  },
  {
   "cell_type": "code",
   "execution_count": 15,
   "id": "948b0acf-ab44-4793-aa0a-d4bacf58d05e",
   "metadata": {},
   "outputs": [
    {
     "name": "stdout",
     "output_type": "stream",
     "text": [
      "0\n",
      "1\n",
      "2\n",
      "3\n",
      "4\n"
     ]
    }
   ],
   "source": [
    "for i in range(5):\n",
    "    print(i)"
   ]
  },
  {
   "cell_type": "markdown",
   "id": "504427ff-43fb-44c8-baa6-23866035fd58",
   "metadata": {},
   "source": [
    "While Loop: Repeats as long as a condition remains true.\n",
    "\n",
    "Use Case: When the number of iterations isn’t known in advance."
   ]
  },
  {
   "cell_type": "code",
   "execution_count": 16,
   "id": "27172187-3d15-4d94-98d8-ab1e16cdf797",
   "metadata": {},
   "outputs": [
    {
     "name": "stdout",
     "output_type": "stream",
     "text": [
      "0\n",
      "1\n",
      "2\n",
      "3\n",
      "4\n"
     ]
    }
   ],
   "source": [
    "i = 0\n",
    "while i < 5:\n",
    "    print(i)\n",
    "    i += 1"
   ]
  },
  {
   "cell_type": "markdown",
   "id": "17c0dd11-59c9-4ec7-8463-77e5d0f9c9a7",
   "metadata": {},
   "source": [
    "Each of these concepts contributes to Python's versatility and user-friendly nature, which is why it's so popular among programmers."
   ]
  }
 ],
 "metadata": {
  "kernelspec": {
   "display_name": "Python 3 (ipykernel)",
   "language": "python",
   "name": "python3"
  },
  "language_info": {
   "codemirror_mode": {
    "name": "ipython",
    "version": 3
   },
   "file_extension": ".py",
   "mimetype": "text/x-python",
   "name": "python",
   "nbconvert_exporter": "python",
   "pygments_lexer": "ipython3",
   "version": "3.10.8"
  }
 },
 "nbformat": 4,
 "nbformat_minor": 5
}
